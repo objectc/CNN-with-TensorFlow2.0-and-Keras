{
  "nbformat": 4,
  "nbformat_minor": 0,
  "metadata": {
    "colab": {
      "name": "inception_naive.ipynb",
      "version": "0.3.2",
      "provenance": [],
      "collapsed_sections": [],
      "include_colab_link": true
    },
    "kernelspec": {
      "name": "python3",
      "display_name": "Python 3"
    },
    "accelerator": "GPU"
  },
  "cells": [
    {
      "cell_type": "markdown",
      "metadata": {
        "id": "view-in-github",
        "colab_type": "text"
      },
      "source": [
        "<a href=\"https://colab.research.google.com/github/objectc/CNN-with-TensorFlow2.0-and-Keras/blob/master/inception_naive.ipynb\" target=\"_parent\"><img src=\"https://colab.research.google.com/assets/colab-badge.svg\" alt=\"Open In Colab\"/></a>"
      ]
    },
    {
      "cell_type": "code",
      "metadata": {
        "id": "8042Qr8ElkTt",
        "colab_type": "code",
        "outputId": "392bc2be-e86c-406e-af57-da5148ea5346",
        "colab": {
          "base_uri": "https://localhost:8080/",
          "height": 84
        }
      },
      "source": [
        "!pip install -q tensorflow-gpu==2.0.0-alpha0"
      ],
      "execution_count": 2,
      "outputs": [
        {
          "output_type": "stream",
          "text": [
            "\u001b[K     |████████████████████████████████| 332.1MB 55kB/s \n",
            "\u001b[K     |████████████████████████████████| 61kB 26.5MB/s \n",
            "\u001b[K     |████████████████████████████████| 419kB 56.9MB/s \n",
            "\u001b[K     |████████████████████████████████| 3.0MB 38.4MB/s \n",
            "\u001b[?25h"
          ],
          "name": "stdout"
        }
      ]
    },
    {
      "cell_type": "code",
      "metadata": {
        "id": "f3h0GzJtlvEK",
        "colab_type": "code",
        "colab": {}
      },
      "source": [
        "# Import all the necessary files!\n",
        "import tensorflow as tf\n",
        "from tensorflow import keras\n",
        "import matplotlib.pyplot as plt"
      ],
      "execution_count": 0,
      "outputs": []
    },
    {
      "cell_type": "code",
      "metadata": {
        "id": "G28dt8KVl3N9",
        "colab_type": "code",
        "outputId": "0c49c69d-c778-47d5-961f-e1219e551945",
        "colab": {
          "base_uri": "https://localhost:8080/",
          "height": 34
        }
      },
      "source": [
        "print(tf.__version__)"
      ],
      "execution_count": 4,
      "outputs": [
        {
          "output_type": "stream",
          "text": [
            "2.0.0-alpha0\n"
          ],
          "name": "stdout"
        }
      ]
    },
    {
      "cell_type": "code",
      "metadata": {
        "id": "_YdGbehomOrY",
        "colab_type": "code",
        "colab": {}
      },
      "source": [
        "from tensorflow.keras import Model\n",
        "from tensorflow.keras.layers import Dense, Activation, Flatten, Input, Conv2D, MaxPooling2D, AveragePooling2D, BatchNormalization"
      ],
      "execution_count": 0,
      "outputs": []
    },
    {
      "cell_type": "code",
      "metadata": {
        "id": "aP-fDhtNnPnc",
        "colab_type": "code",
        "outputId": "eb2acac3-73b5-4fe2-8ef4-794576b2257b",
        "colab": {
          "base_uri": "https://localhost:8080/",
          "height": 50
        }
      },
      "source": [
        "(X_train_full, y_train_full), (X_test, y_test) = tf.keras.datasets.cifar10.load_data()"
      ],
      "execution_count": 6,
      "outputs": [
        {
          "output_type": "stream",
          "text": [
            "Downloading data from https://www.cs.toronto.edu/~kriz/cifar-10-python.tar.gz\n",
            "170500096/170498071 [==============================] - 17s 0us/step\n"
          ],
          "name": "stdout"
        }
      ]
    },
    {
      "cell_type": "code",
      "metadata": {
        "id": "ZgIrSW3qnfq4",
        "colab_type": "code",
        "outputId": "122a9219-8d16-47df-b7d0-535b4c74ce3a",
        "colab": {
          "base_uri": "https://localhost:8080/",
          "height": 34
        }
      },
      "source": [
        "X_train_full = X_train_full/255.0\n",
        "X_test = X_test/255.0\n",
        "classes = [\n",
        "    \"airplane\",\n",
        "    \"automobile\",\n",
        "    \"bird\",\n",
        "    \"cat\",\n",
        "    \"deer\",\n",
        "    \"dog\",\n",
        "    \"frog\",\n",
        "    \"horse\",\n",
        "    \"ship\",\n",
        "    \"truck\",\n",
        "]\n",
        "input_shape = X_train_full[0].shape\n",
        "input_shape"
      ],
      "execution_count": 7,
      "outputs": [
        {
          "output_type": "execute_result",
          "data": {
            "text/plain": [
              "(32, 32, 3)"
            ]
          },
          "metadata": {
            "tags": []
          },
          "execution_count": 7
        }
      ]
    },
    {
      "cell_type": "markdown",
      "metadata": {
        "id": "du6wSyI4nER-",
        "colab_type": "text"
      },
      "source": [
        "## Naive Inception Model"
      ]
    },
    {
      "cell_type": "markdown",
      "metadata": {
        "id": "vaoUBzhYoVOs",
        "colab_type": "text"
      },
      "source": [
        "![Inception V1](https://raw.githubusercontent.com/objectc/CNN-with-TensorFlow2.0-and-Keras/master/res/inception_v1.jpg)\n",
        "\n",
        "[Source: Going deeper with convolutions](https://arxiv.org/pdf/1409.4842v1.pdf)"
      ]
    },
    {
      "cell_type": "code",
      "metadata": {
        "id": "o19wCjKitaR5",
        "colab_type": "code",
        "colab": {}
      },
      "source": [
        "def generate_inception_module(inputs):\n",
        "  output_1x1 = Conv2D(64, (1,1), padding='same')(inputs)\n",
        "  output_1x1 = BatchNormalization()(output_1x1)\n",
        "  output_1x1 = Activation('relu')(output_1x1)\n",
        "  \n",
        "  output_3x3 = Conv2D(96, (1,1), padding='same')(inputs)\n",
        "  output_3x3 = BatchNormalization()(output_3x3)\n",
        "  output_3x3 = Activation('relu')(output_3x3)\n",
        "  output_3x3 = Conv2D(128, (3,3), padding='same')(output_3x3)\n",
        "  output_3x3 = BatchNormalization()(output_3x3)\n",
        "  output_3x3 = Activation('relu')(output_3x3)\n",
        "  \n",
        "  output_5x5 = Conv2D(16, (1,1), padding='same')(inputs)\n",
        "  output_5x5 = BatchNormalization()(output_5x5)\n",
        "  output_5x5 = Activation('relu')(output_5x5)\n",
        "  output_5x5 = Conv2D(32, (5,5), padding='same')(output_5x5)\n",
        "  output_5x5 = BatchNormalization()(output_5x5)\n",
        "  output_5x5 = Activation('relu')(output_5x5)\n",
        "  output_pooling = MaxPooling2D((3,3), padding='same', strides=1)(inputs)\n",
        "  output_pooling = Conv2D(32, (1,1), padding='same')(output_pooling)\n",
        "  output_pooling = BatchNormalization()(output_pooling)\n",
        "  output_pooling = Activation('relu')(output_pooling)\n",
        "  return keras.layers.concatenate([output_1x1, output_3x3, output_5x5, output_pooling], axis=3)"
      ],
      "execution_count": 0,
      "outputs": []
    },
    {
      "cell_type": "code",
      "metadata": {
        "id": "qGwGff8Pm9ZU",
        "colab_type": "code",
        "colab": {}
      },
      "source": [
        "keras.backend.clear_session()\n",
        "inputs = Input(input_shape)\n",
        "x = generate_inception_module(inputs)\n",
        "# x = generate_inception_module(x)\n",
        "x = Conv2D(32, (3,3), padding='same')(x)\n",
        "x = BatchNormalization()(x)\n",
        "x = Activation('relu')(x)\n",
        "x = keras.layers.AveragePooling2D((2,2), padding='same', strides=1)(x)\n",
        "x = Flatten()(x)\n",
        "# x = Dense(1024, activation='relu')(x)\n",
        "output = Dense(len(classes), activation='softmax')(x)"
      ],
      "execution_count": 0,
      "outputs": []
    },
    {
      "cell_type": "code",
      "metadata": {
        "id": "4pwAVgmcnoWh",
        "colab_type": "code",
        "colab": {}
      },
      "source": [
        "model = Model(inputs, output)"
      ],
      "execution_count": 0,
      "outputs": []
    },
    {
      "cell_type": "code",
      "metadata": {
        "id": "fs9jGodF2DvS",
        "colab_type": "code",
        "outputId": "e2b6c621-1f66-4686-e901-83d8723ae84d",
        "colab": {
          "base_uri": "https://localhost:8080/",
          "height": 1109
        }
      },
      "source": [
        "model.summary()"
      ],
      "execution_count": 30,
      "outputs": [
        {
          "output_type": "stream",
          "text": [
            "Model: \"model\"\n",
            "__________________________________________________________________________________________________\n",
            "Layer (type)                    Output Shape         Param #     Connected to                     \n",
            "==================================================================================================\n",
            "input_1 (InputLayer)            [(None, 32, 32, 3)]  0                                            \n",
            "__________________________________________________________________________________________________\n",
            "conv2d_1 (Conv2D)               (None, 32, 32, 96)   384         input_1[0][0]                    \n",
            "__________________________________________________________________________________________________\n",
            "conv2d_3 (Conv2D)               (None, 32, 32, 16)   64          input_1[0][0]                    \n",
            "__________________________________________________________________________________________________\n",
            "batch_normalization_v2_1 (Batch (None, 32, 32, 96)   384         conv2d_1[0][0]                   \n",
            "__________________________________________________________________________________________________\n",
            "batch_normalization_v2_3 (Batch (None, 32, 32, 16)   64          conv2d_3[0][0]                   \n",
            "__________________________________________________________________________________________________\n",
            "activation_1 (Activation)       (None, 32, 32, 96)   0           batch_normalization_v2_1[0][0]   \n",
            "__________________________________________________________________________________________________\n",
            "activation_3 (Activation)       (None, 32, 32, 16)   0           batch_normalization_v2_3[0][0]   \n",
            "__________________________________________________________________________________________________\n",
            "max_pooling2d (MaxPooling2D)    (None, 32, 32, 3)    0           input_1[0][0]                    \n",
            "__________________________________________________________________________________________________\n",
            "conv2d (Conv2D)                 (None, 32, 32, 64)   256         input_1[0][0]                    \n",
            "__________________________________________________________________________________________________\n",
            "conv2d_2 (Conv2D)               (None, 32, 32, 128)  110720      activation_1[0][0]               \n",
            "__________________________________________________________________________________________________\n",
            "conv2d_4 (Conv2D)               (None, 32, 32, 32)   12832       activation_3[0][0]               \n",
            "__________________________________________________________________________________________________\n",
            "conv2d_5 (Conv2D)               (None, 32, 32, 32)   128         max_pooling2d[0][0]              \n",
            "__________________________________________________________________________________________________\n",
            "batch_normalization_v2 (BatchNo (None, 32, 32, 64)   256         conv2d[0][0]                     \n",
            "__________________________________________________________________________________________________\n",
            "batch_normalization_v2_2 (Batch (None, 32, 32, 128)  512         conv2d_2[0][0]                   \n",
            "__________________________________________________________________________________________________\n",
            "batch_normalization_v2_4 (Batch (None, 32, 32, 32)   128         conv2d_4[0][0]                   \n",
            "__________________________________________________________________________________________________\n",
            "batch_normalization_v2_5 (Batch (None, 32, 32, 32)   128         conv2d_5[0][0]                   \n",
            "__________________________________________________________________________________________________\n",
            "activation (Activation)         (None, 32, 32, 64)   0           batch_normalization_v2[0][0]     \n",
            "__________________________________________________________________________________________________\n",
            "activation_2 (Activation)       (None, 32, 32, 128)  0           batch_normalization_v2_2[0][0]   \n",
            "__________________________________________________________________________________________________\n",
            "activation_4 (Activation)       (None, 32, 32, 32)   0           batch_normalization_v2_4[0][0]   \n",
            "__________________________________________________________________________________________________\n",
            "activation_5 (Activation)       (None, 32, 32, 32)   0           batch_normalization_v2_5[0][0]   \n",
            "__________________________________________________________________________________________________\n",
            "concatenate (Concatenate)       (None, 32, 32, 256)  0           activation[0][0]                 \n",
            "                                                                 activation_2[0][0]               \n",
            "                                                                 activation_4[0][0]               \n",
            "                                                                 activation_5[0][0]               \n",
            "__________________________________________________________________________________________________\n",
            "conv2d_6 (Conv2D)               (None, 32, 32, 32)   73760       concatenate[0][0]                \n",
            "__________________________________________________________________________________________________\n",
            "batch_normalization_v2_6 (Batch (None, 32, 32, 32)   128         conv2d_6[0][0]                   \n",
            "__________________________________________________________________________________________________\n",
            "activation_6 (Activation)       (None, 32, 32, 32)   0           batch_normalization_v2_6[0][0]   \n",
            "__________________________________________________________________________________________________\n",
            "average_pooling2d (AveragePooli (None, 32, 32, 32)   0           activation_6[0][0]               \n",
            "__________________________________________________________________________________________________\n",
            "flatten (Flatten)               (None, 32768)        0           average_pooling2d[0][0]          \n",
            "__________________________________________________________________________________________________\n",
            "dense (Dense)                   (None, 10)           327690      flatten[0][0]                    \n",
            "==================================================================================================\n",
            "Total params: 527,434\n",
            "Trainable params: 526,634\n",
            "Non-trainable params: 800\n",
            "__________________________________________________________________________________________________\n"
          ],
          "name": "stdout"
        }
      ]
    },
    {
      "cell_type": "code",
      "metadata": {
        "id": "ViYMx4mVV2ua",
        "colab_type": "code",
        "colab": {}
      },
      "source": [
        "def lr_schedule(epoch):\n",
        "    lrate = 0.001\n",
        "    if epoch > 10:\n",
        "        lrate = 0.0005\n",
        "    if epoch > 20:\n",
        "        lrate = 0.0003\n",
        "    return lrate"
      ],
      "execution_count": 0,
      "outputs": []
    },
    {
      "cell_type": "code",
      "metadata": {
        "id": "KwGAChZl2FMk",
        "colab_type": "code",
        "colab": {}
      },
      "source": [
        "model.compile(optimizer=keras.optimizers.Adam(lr=0.001,decay=1e-6), \n",
        "              loss=keras.losses.sparse_categorical_crossentropy, \n",
        "              metrics=[keras.metrics.sparse_categorical_accuracy])"
      ],
      "execution_count": 0,
      "outputs": []
    },
    {
      "cell_type": "code",
      "metadata": {
        "id": "yoNxRF9i4Zzm",
        "colab_type": "code",
        "colab": {}
      },
      "source": [
        "from keras_preprocessing.image import ImageDataGenerator"
      ],
      "execution_count": 0,
      "outputs": []
    },
    {
      "cell_type": "code",
      "metadata": {
        "id": "8e515cyX4dj0",
        "colab_type": "code",
        "colab": {}
      },
      "source": [
        "traingen = ImageDataGenerator(\n",
        "        # set input mean to 0 over the dataset\n",
        "        featurewise_center=False,\n",
        "        # set each sample mean to 0\n",
        "        samplewise_center=False,\n",
        "        # divide inputs by std of dataset\n",
        "        featurewise_std_normalization=False,\n",
        "        # divide each input by its std\n",
        "        samplewise_std_normalization=False,\n",
        "        # apply ZCA whitening\n",
        "        zca_whitening=False,\n",
        "        # epsilon for ZCA whitening\n",
        "        zca_epsilon=1e-06,\n",
        "        # randomly rotate images in the range (deg 0 to 180)\n",
        "        rotation_range=15,\n",
        "        # randomly shift images horizontally\n",
        "        width_shift_range=0.1,\n",
        "        # randomly shift images vertically\n",
        "        height_shift_range=0.1,\n",
        "        # set range for random shear\n",
        "        shear_range=0.,\n",
        "        # set range for random zoom\n",
        "        zoom_range=0.,\n",
        "        # set range for random channel shifts\n",
        "        channel_shift_range=0.,\n",
        "        # set mode for filling points outside the input boundaries\n",
        "        fill_mode='nearest',\n",
        "        # value used for fill_mode = \"constant\"\n",
        "        cval=0.,\n",
        "        # randomly flip images\n",
        "        horizontal_flip=True,\n",
        "        # randomly flip images\n",
        "        vertical_flip=False,\n",
        "        # set rescaling factor (applied before any other transformation)\n",
        "        rescale=0,\n",
        "        # set function that will be applied on each input\n",
        "        preprocessing_function=None,\n",
        "        # image data format, either \"channels_first\" or \"channels_last\"\n",
        "        data_format='channels_last',\n",
        "        # fraction of images reserved for validation (strictly between 0 and 1)\n",
        "        validation_split=0.0)\n",
        "traingen.fit(X_train_full)\n",
        "X_train_gen = traingen.flow(X_train_full, y_train_full)"
      ],
      "execution_count": 0,
      "outputs": []
    },
    {
      "cell_type": "code",
      "metadata": {
        "id": "d4D3wpkc2MGn",
        "colab_type": "code",
        "outputId": "d4e28163-8c97-4f79-9e5f-7aed64f23b37",
        "colab": {
          "base_uri": "https://localhost:8080/",
          "height": 1045
        }
      },
      "source": [
        "history = model.fit(X_train_gen, epochs=30, validation_data=(X_test, y_test), callbacks=[keras.callbacks.LearningRateScheduler(lr_schedule)])"
      ],
      "execution_count": 35,
      "outputs": [
        {
          "output_type": "stream",
          "text": [
            "Epoch 1/30\n",
            "1563/1563 [==============================] - 44s 28ms/step - loss: 1.8773 - sparse_categorical_accuracy: 0.4150 - val_loss: 1.5559 - val_sparse_categorical_accuracy: 0.4763\n",
            "Epoch 2/30\n",
            "1563/1563 [==============================] - 39s 25ms/step - loss: 1.3447 - sparse_categorical_accuracy: 0.5178 - val_loss: 1.2898 - val_sparse_categorical_accuracy: 0.5554\n",
            "Epoch 3/30\n",
            "1563/1563 [==============================] - 40s 25ms/step - loss: 1.2519 - sparse_categorical_accuracy: 0.5549 - val_loss: 1.1579 - val_sparse_categorical_accuracy: 0.6002\n",
            "Epoch 4/30\n",
            "1563/1563 [==============================] - 39s 25ms/step - loss: 1.1769 - sparse_categorical_accuracy: 0.5856 - val_loss: 1.1193 - val_sparse_categorical_accuracy: 0.6102\n",
            "Epoch 5/30\n",
            "1563/1563 [==============================] - 40s 26ms/step - loss: 1.1302 - sparse_categorical_accuracy: 0.6045 - val_loss: 1.0741 - val_sparse_categorical_accuracy: 0.6292\n",
            "Epoch 6/30\n",
            "1563/1563 [==============================] - 39s 25ms/step - loss: 1.0836 - sparse_categorical_accuracy: 0.6217 - val_loss: 1.0415 - val_sparse_categorical_accuracy: 0.6479\n",
            "Epoch 7/30\n",
            "1563/1563 [==============================] - 42s 27ms/step - loss: 1.0493 - sparse_categorical_accuracy: 0.6350 - val_loss: 0.9964 - val_sparse_categorical_accuracy: 0.6593\n",
            "Epoch 8/30\n",
            "1563/1563 [==============================] - 39s 25ms/step - loss: 1.0227 - sparse_categorical_accuracy: 0.6428 - val_loss: 0.9640 - val_sparse_categorical_accuracy: 0.6766\n",
            "Epoch 9/30\n",
            "1563/1563 [==============================] - 40s 26ms/step - loss: 0.9912 - sparse_categorical_accuracy: 0.6561 - val_loss: 1.2192 - val_sparse_categorical_accuracy: 0.6192\n",
            "Epoch 10/30\n",
            "1563/1563 [==============================] - 39s 25ms/step - loss: 0.9634 - sparse_categorical_accuracy: 0.6652 - val_loss: 0.9708 - val_sparse_categorical_accuracy: 0.6770\n",
            "Epoch 11/30\n",
            "1563/1563 [==============================] - 40s 26ms/step - loss: 0.9454 - sparse_categorical_accuracy: 0.6712 - val_loss: 1.0669 - val_sparse_categorical_accuracy: 0.6631\n",
            "Epoch 12/30\n",
            "1563/1563 [==============================] - 39s 25ms/step - loss: 0.8838 - sparse_categorical_accuracy: 0.6964 - val_loss: 0.8775 - val_sparse_categorical_accuracy: 0.7078\n",
            "Epoch 13/30\n",
            "1563/1563 [==============================] - 40s 26ms/step - loss: 0.8619 - sparse_categorical_accuracy: 0.7025 - val_loss: 0.8383 - val_sparse_categorical_accuracy: 0.7224\n",
            "Epoch 14/30\n",
            "1563/1563 [==============================] - 39s 25ms/step - loss: 0.8441 - sparse_categorical_accuracy: 0.7097 - val_loss: 0.8550 - val_sparse_categorical_accuracy: 0.7203\n",
            "Epoch 15/30\n",
            "1563/1563 [==============================] - 41s 27ms/step - loss: 0.8342 - sparse_categorical_accuracy: 0.7104 - val_loss: 0.8527 - val_sparse_categorical_accuracy: 0.7231\n",
            "Epoch 16/30\n",
            "1563/1563 [==============================] - 39s 25ms/step - loss: 0.8222 - sparse_categorical_accuracy: 0.7170 - val_loss: 0.8618 - val_sparse_categorical_accuracy: 0.7191\n",
            "Epoch 17/30\n",
            "1563/1563 [==============================] - 40s 26ms/step - loss: 0.8166 - sparse_categorical_accuracy: 0.7192 - val_loss: 0.8942 - val_sparse_categorical_accuracy: 0.7090\n",
            "Epoch 18/30\n",
            "1563/1563 [==============================] - 39s 25ms/step - loss: 0.8073 - sparse_categorical_accuracy: 0.7210 - val_loss: 0.8729 - val_sparse_categorical_accuracy: 0.7160\n",
            "Epoch 19/30\n",
            "1563/1563 [==============================] - 40s 25ms/step - loss: 0.7983 - sparse_categorical_accuracy: 0.7261 - val_loss: 0.7898 - val_sparse_categorical_accuracy: 0.7394\n",
            "Epoch 20/30\n",
            "1563/1563 [==============================] - 39s 25ms/step - loss: 0.7877 - sparse_categorical_accuracy: 0.7284 - val_loss: 0.8442 - val_sparse_categorical_accuracy: 0.7248\n",
            "Epoch 21/30\n",
            "1563/1563 [==============================] - 40s 26ms/step - loss: 0.7846 - sparse_categorical_accuracy: 0.7288 - val_loss: 0.8528 - val_sparse_categorical_accuracy: 0.7254\n",
            "Epoch 22/30\n",
            "1563/1563 [==============================] - 39s 25ms/step - loss: 0.7552 - sparse_categorical_accuracy: 0.7379 - val_loss: 0.8439 - val_sparse_categorical_accuracy: 0.7306\n",
            "Epoch 23/30\n",
            "1563/1563 [==============================] - 41s 26ms/step - loss: 0.7428 - sparse_categorical_accuracy: 0.7430 - val_loss: 0.7879 - val_sparse_categorical_accuracy: 0.7427\n",
            "Epoch 24/30\n",
            "1563/1563 [==============================] - 39s 25ms/step - loss: 0.7372 - sparse_categorical_accuracy: 0.7469 - val_loss: 0.7922 - val_sparse_categorical_accuracy: 0.7415\n",
            "Epoch 25/30\n",
            "1563/1563 [==============================] - 40s 26ms/step - loss: 0.7328 - sparse_categorical_accuracy: 0.7456 - val_loss: 0.7909 - val_sparse_categorical_accuracy: 0.7437\n",
            "Epoch 26/30\n",
            "1563/1563 [==============================] - 39s 25ms/step - loss: 0.7295 - sparse_categorical_accuracy: 0.7465 - val_loss: 0.7644 - val_sparse_categorical_accuracy: 0.7510\n",
            "Epoch 27/30\n",
            "1563/1563 [==============================] - 41s 26ms/step - loss: 0.7239 - sparse_categorical_accuracy: 0.7512 - val_loss: 0.7667 - val_sparse_categorical_accuracy: 0.7525\n",
            "Epoch 28/30\n",
            "1563/1563 [==============================] - 38s 25ms/step - loss: 0.7252 - sparse_categorical_accuracy: 0.7502 - val_loss: 0.7796 - val_sparse_categorical_accuracy: 0.7485\n",
            "Epoch 29/30\n",
            "1563/1563 [==============================] - 40s 25ms/step - loss: 0.7170 - sparse_categorical_accuracy: 0.7506 - val_loss: 0.7669 - val_sparse_categorical_accuracy: 0.7514\n",
            "Epoch 30/30\n",
            "1563/1563 [==============================] - 39s 25ms/step - loss: 0.7103 - sparse_categorical_accuracy: 0.7532 - val_loss: 0.7503 - val_sparse_categorical_accuracy: 0.7566\n"
          ],
          "name": "stdout"
        }
      ]
    },
    {
      "cell_type": "code",
      "metadata": {
        "id": "2QAQzzR54udy",
        "colab_type": "code",
        "colab": {}
      },
      "source": [
        "\n",
        "def plot_history(history):\n",
        "  # Plot training & validation accuracy values\n",
        "  plt.plot(history.history['sparse_categorical_accuracy'])\n",
        "  plt.plot(history.history['val_sparse_categorical_accuracy'])\n",
        "  plt.title('Model accuracy')\n",
        "  plt.ylabel('Accuracy')\n",
        "  plt.xlabel('Epoch')\n",
        "  plt.legend(['Train', 'Validate'], loc='upper left')\n",
        "  plt.show()\n",
        "\n",
        "  # Plot training & validation loss values\n",
        "  plt.plot(history.history['loss'])\n",
        "  plt.plot(history.history['val_loss'])\n",
        "  plt.title('Model loss')\n",
        "  plt.ylabel('Loss')\n",
        "  plt.xlabel('Epoch')\n",
        "  plt.legend(['Train', 'Validate'], loc='upper left')\n",
        "  plt.show()"
      ],
      "execution_count": 0,
      "outputs": []
    },
    {
      "cell_type": "code",
      "metadata": {
        "id": "lx645KTaJkWR",
        "colab_type": "code",
        "outputId": "a2f7906c-875b-40e6-bb3f-a963d77154e3",
        "colab": {
          "base_uri": "https://localhost:8080/",
          "height": 574
        }
      },
      "source": [
        "plot_history(history)"
      ],
      "execution_count": 18,
      "outputs": [
        {
          "output_type": "display_data",
          "data": {
            "image/png": "[encoded data removed]",
            "text/plain": [
              "<Figure size 432x288 with 1 Axes>"
            ]
          },
          "metadata": {
            "tags": []
          }
        },
        {
          "output_type": "display_data",
          "data": {
            "image/png": "[encoded data removed]",
            "text/plain": [
              "<Figure size 432x288 with 1 Axes>"
            ]
          },
          "metadata": {
            "tags": []
          }
        }
      ]
    },
    {
      "cell_type": "code",
      "metadata": {
        "id": "GAD672WhJmNb",
        "colab_type": "code",
        "outputId": "7b4653c9-f8d5-4514-b413-cd1f3d8e38cd",
        "colab": {
          "base_uri": "https://localhost:8080/",
          "height": 526
        }
      },
      "source": [
        "model.fit(X_train_gen, epochs=20, validation_data=(X_test, y_test))"
      ],
      "execution_count": 19,
      "outputs": [
        {
          "output_type": "stream",
          "text": [
            "Epoch 1/20\n",
            "1563/1563 [==============================] - 42s 27ms/step - loss: 1.0567 - sparse_categorical_accuracy: 0.6295 - val_loss: 0.9361 - val_sparse_categorical_accuracy: 0.6804\n",
            "Epoch 2/20\n",
            "1563/1563 [==============================] - 41s 26ms/step - loss: 1.0565 - sparse_categorical_accuracy: 0.6316 - val_loss: 1.0156 - val_sparse_categorical_accuracy: 0.6546\n",
            "Epoch 3/20\n",
            "1563/1563 [==============================] - 42s 27ms/step - loss: 1.0505 - sparse_categorical_accuracy: 0.6337 - val_loss: 1.0647 - val_sparse_categorical_accuracy: 0.6484\n",
            "Epoch 4/20\n",
            "1563/1563 [==============================] - 42s 27ms/step - loss: 1.0435 - sparse_categorical_accuracy: 0.6373 - val_loss: 1.0402 - val_sparse_categorical_accuracy: 0.6555\n",
            "Epoch 5/20\n",
            "1563/1563 [==============================] - 41s 26ms/step - loss: 1.0416 - sparse_categorical_accuracy: 0.6374 - val_loss: 1.0107 - val_sparse_categorical_accuracy: 0.6554\n",
            "Epoch 6/20\n",
            " 658/1563 [===========>..................] - ETA: 22s - loss: 1.0407 - sparse_categorical_accuracy: 0.6386"
          ],
          "name": "stdout"
        },
        {
          "output_type": "error",
          "ename": "KeyboardInterrupt",
          "evalue": "ignored",
          "traceback": [
            "\u001b[0;31m---------------------------------------------------------------------------\u001b[0m",
            "\u001b[0;31mKeyboardInterrupt\u001b[0m                         Traceback (most recent call last)",
            "\u001b[0;32m<ipython-input-19-d9881f6b5125>\u001b[0m in \u001b[0;36m<module>\u001b[0;34m()\u001b[0m\n\u001b[0;32m----> 1\u001b[0;31m \u001b[0mmodel\u001b[0m\u001b[0;34m.\u001b[0m\u001b[0mfit\u001b[0m\u001b[0;34m(\u001b[0m\u001b[0mX_train_gen\u001b[0m\u001b[0;34m,\u001b[0m \u001b[0mepochs\u001b[0m\u001b[0;34m=\u001b[0m\u001b[0;36m20\u001b[0m\u001b[0;34m,\u001b[0m \u001b[0mvalidation_data\u001b[0m\u001b[0;34m=\u001b[0m\u001b[0;34m(\u001b[0m\u001b[0mX_test\u001b[0m\u001b[0;34m,\u001b[0m \u001b[0my_test\u001b[0m\u001b[0;34m)\u001b[0m\u001b[0;34m)\u001b[0m\u001b[0;34m\u001b[0m\u001b[0;34m\u001b[0m\u001b[0m\n\u001b[0m",
            "\u001b[0;32m/usr/local/lib/python3.6/dist-packages/tensorflow/python/keras/engine/training.py\u001b[0m in \u001b[0;36mfit\u001b[0;34m(self, x, y, batch_size, epochs, verbose, callbacks, validation_split, validation_data, shuffle, class_weight, sample_weight, initial_epoch, steps_per_epoch, validation_steps, validation_freq, max_queue_size, workers, use_multiprocessing, **kwargs)\u001b[0m\n\u001b[1;32m    768\u001b[0m           \u001b[0muse_multiprocessing\u001b[0m\u001b[0;34m=\u001b[0m\u001b[0muse_multiprocessing\u001b[0m\u001b[0;34m,\u001b[0m\u001b[0;34m\u001b[0m\u001b[0;34m\u001b[0m\u001b[0m\n\u001b[1;32m    769\u001b[0m           \u001b[0mshuffle\u001b[0m\u001b[0;34m=\u001b[0m\u001b[0mshuffle\u001b[0m\u001b[0;34m,\u001b[0m\u001b[0;34m\u001b[0m\u001b[0;34m\u001b[0m\u001b[0m\n\u001b[0;32m--> 770\u001b[0;31m           initial_epoch=initial_epoch)\n\u001b[0m\u001b[1;32m    771\u001b[0m     \u001b[0;32mif\u001b[0m \u001b[0mtraining_utils\u001b[0m\u001b[0;34m.\u001b[0m\u001b[0mis_eager_dataset_or_iterator\u001b[0m\u001b[0;34m(\u001b[0m\u001b[0mx\u001b[0m\u001b[0;34m)\u001b[0m\u001b[0;34m:\u001b[0m\u001b[0;34m\u001b[0m\u001b[0;34m\u001b[0m\u001b[0m\n\u001b[1;32m    772\u001b[0m       \u001b[0;31m# Make sure that y, sample_weights, validation_split are not passed.\u001b[0m\u001b[0;34m\u001b[0m\u001b[0;34m\u001b[0m\u001b[0;34m\u001b[0m\u001b[0m\n",
            "\u001b[0;32m/usr/local/lib/python3.6/dist-packages/tensorflow/python/keras/engine/training.py\u001b[0m in \u001b[0;36mfit_generator\u001b[0;34m(self, generator, steps_per_epoch, epochs, verbose, callbacks, validation_data, validation_steps, validation_freq, class_weight, max_queue_size, workers, use_multiprocessing, shuffle, initial_epoch)\u001b[0m\n\u001b[1;32m   1513\u001b[0m         \u001b[0mshuffle\u001b[0m\u001b[0;34m=\u001b[0m\u001b[0mshuffle\u001b[0m\u001b[0;34m,\u001b[0m\u001b[0;34m\u001b[0m\u001b[0;34m\u001b[0m\u001b[0m\n\u001b[1;32m   1514\u001b[0m         \u001b[0minitial_epoch\u001b[0m\u001b[0;34m=\u001b[0m\u001b[0minitial_epoch\u001b[0m\u001b[0;34m,\u001b[0m\u001b[0;34m\u001b[0m\u001b[0;34m\u001b[0m\u001b[0m\n\u001b[0;32m-> 1515\u001b[0;31m         steps_name='steps_per_epoch')\n\u001b[0m\u001b[1;32m   1516\u001b[0m \u001b[0;34m\u001b[0m\u001b[0m\n\u001b[1;32m   1517\u001b[0m   def evaluate_generator(self,\n",
            "\u001b[0;32m/usr/local/lib/python3.6/dist-packages/tensorflow/python/keras/engine/training_generator.py\u001b[0m in \u001b[0;36mmodel_iteration\u001b[0;34m(model, data, steps_per_epoch, epochs, verbose, callbacks, validation_data, validation_steps, validation_freq, class_weight, max_queue_size, workers, use_multiprocessing, shuffle, initial_epoch, mode, batch_size, steps_name, **kwargs)\u001b[0m\n\u001b[1;32m    255\u001b[0m \u001b[0;34m\u001b[0m\u001b[0m\n\u001b[1;32m    256\u001b[0m       \u001b[0mis_deferred\u001b[0m \u001b[0;34m=\u001b[0m \u001b[0;32mnot\u001b[0m \u001b[0mmodel\u001b[0m\u001b[0;34m.\u001b[0m\u001b[0m_is_compiled\u001b[0m\u001b[0;34m\u001b[0m\u001b[0;34m\u001b[0m\u001b[0m\n\u001b[0;32m--> 257\u001b[0;31m       \u001b[0mbatch_outs\u001b[0m \u001b[0;34m=\u001b[0m \u001b[0mbatch_function\u001b[0m\u001b[0;34m(\u001b[0m\u001b[0;34m*\u001b[0m\u001b[0mbatch_data\u001b[0m\u001b[0;34m)\u001b[0m\u001b[0;34m\u001b[0m\u001b[0;34m\u001b[0m\u001b[0m\n\u001b[0m\u001b[1;32m    258\u001b[0m       \u001b[0;32mif\u001b[0m \u001b[0;32mnot\u001b[0m \u001b[0misinstance\u001b[0m\u001b[0;34m(\u001b[0m\u001b[0mbatch_outs\u001b[0m\u001b[0;34m,\u001b[0m \u001b[0mlist\u001b[0m\u001b[0;34m)\u001b[0m\u001b[0;34m:\u001b[0m\u001b[0;34m\u001b[0m\u001b[0;34m\u001b[0m\u001b[0m\n\u001b[1;32m    259\u001b[0m         \u001b[0mbatch_outs\u001b[0m \u001b[0;34m=\u001b[0m \u001b[0;34m[\u001b[0m\u001b[0mbatch_outs\u001b[0m\u001b[0;34m]\u001b[0m\u001b[0;34m\u001b[0m\u001b[0;34m\u001b[0m\u001b[0m\n",
            "\u001b[0;32m/usr/local/lib/python3.6/dist-packages/tensorflow/python/keras/engine/training.py\u001b[0m in \u001b[0;36mtrain_on_batch\u001b[0;34m(self, x, y, sample_weight, class_weight, reset_metrics)\u001b[0m\n\u001b[1;32m   1257\u001b[0m       \u001b[0;32melse\u001b[0m\u001b[0;34m:\u001b[0m\u001b[0;34m\u001b[0m\u001b[0;34m\u001b[0m\u001b[0m\n\u001b[1;32m   1258\u001b[0m         \u001b[0mself\u001b[0m\u001b[0;34m.\u001b[0m\u001b[0m_make_fit_function\u001b[0m\u001b[0;34m(\u001b[0m\u001b[0;34m)\u001b[0m\u001b[0;34m\u001b[0m\u001b[0;34m\u001b[0m\u001b[0m\n\u001b[0;32m-> 1259\u001b[0;31m         \u001b[0moutputs\u001b[0m \u001b[0;34m=\u001b[0m \u001b[0mself\u001b[0m\u001b[0;34m.\u001b[0m\u001b[0m_fit_function\u001b[0m\u001b[0;34m(\u001b[0m\u001b[0mins\u001b[0m\u001b[0;34m)\u001b[0m  \u001b[0;31m# pylint: disable=not-callable\u001b[0m\u001b[0;34m\u001b[0m\u001b[0;34m\u001b[0m\u001b[0m\n\u001b[0m\u001b[1;32m   1260\u001b[0m \u001b[0;34m\u001b[0m\u001b[0m\n\u001b[1;32m   1261\u001b[0m     \u001b[0;32mif\u001b[0m \u001b[0mreset_metrics\u001b[0m\u001b[0;34m:\u001b[0m\u001b[0;34m\u001b[0m\u001b[0;34m\u001b[0m\u001b[0m\n",
            "\u001b[0;32m/usr/local/lib/python3.6/dist-packages/tensorflow/python/keras/backend.py\u001b[0m in \u001b[0;36m__call__\u001b[0;34m(self, inputs)\u001b[0m\n\u001b[1;32m   3215\u001b[0m         \u001b[0mvalue\u001b[0m \u001b[0;34m=\u001b[0m \u001b[0mmath_ops\u001b[0m\u001b[0;34m.\u001b[0m\u001b[0mcast\u001b[0m\u001b[0;34m(\u001b[0m\u001b[0mvalue\u001b[0m\u001b[0;34m,\u001b[0m \u001b[0mtensor\u001b[0m\u001b[0;34m.\u001b[0m\u001b[0mdtype\u001b[0m\u001b[0;34m)\u001b[0m\u001b[0;34m\u001b[0m\u001b[0;34m\u001b[0m\u001b[0m\n\u001b[1;32m   3216\u001b[0m       \u001b[0mconverted_inputs\u001b[0m\u001b[0;34m.\u001b[0m\u001b[0mappend\u001b[0m\u001b[0;34m(\u001b[0m\u001b[0mvalue\u001b[0m\u001b[0;34m)\u001b[0m\u001b[0;34m\u001b[0m\u001b[0;34m\u001b[0m\u001b[0m\n\u001b[0;32m-> 3217\u001b[0;31m     \u001b[0moutputs\u001b[0m \u001b[0;34m=\u001b[0m \u001b[0mself\u001b[0m\u001b[0;34m.\u001b[0m\u001b[0m_graph_fn\u001b[0m\u001b[0;34m(\u001b[0m\u001b[0;34m*\u001b[0m\u001b[0mconverted_inputs\u001b[0m\u001b[0;34m)\u001b[0m\u001b[0;34m\u001b[0m\u001b[0;34m\u001b[0m\u001b[0m\n\u001b[0m\u001b[1;32m   3218\u001b[0m     return nest.pack_sequence_as(self._outputs_structure,\n\u001b[1;32m   3219\u001b[0m                                  [x.numpy() for x in outputs])\n",
            "\u001b[0;32m/usr/local/lib/python3.6/dist-packages/tensorflow/python/eager/function.py\u001b[0m in \u001b[0;36m__call__\u001b[0;34m(self, *args, **kwargs)\u001b[0m\n\u001b[1;32m    556\u001b[0m       raise TypeError(\"Keyword arguments {} unknown. Expected {}.\".format(\n\u001b[1;32m    557\u001b[0m           list(kwargs.keys()), list(self._arg_keywords)))\n\u001b[0;32m--> 558\u001b[0;31m     \u001b[0;32mreturn\u001b[0m \u001b[0mself\u001b[0m\u001b[0;34m.\u001b[0m\u001b[0m_call_flat\u001b[0m\u001b[0;34m(\u001b[0m\u001b[0margs\u001b[0m\u001b[0;34m)\u001b[0m\u001b[0;34m\u001b[0m\u001b[0;34m\u001b[0m\u001b[0m\n\u001b[0m\u001b[1;32m    559\u001b[0m \u001b[0;34m\u001b[0m\u001b[0m\n\u001b[1;32m    560\u001b[0m   \u001b[0;32mdef\u001b[0m \u001b[0m_filtered_call\u001b[0m\u001b[0;34m(\u001b[0m\u001b[0mself\u001b[0m\u001b[0;34m,\u001b[0m \u001b[0margs\u001b[0m\u001b[0;34m,\u001b[0m \u001b[0mkwargs\u001b[0m\u001b[0;34m)\u001b[0m\u001b[0;34m:\u001b[0m\u001b[0;34m\u001b[0m\u001b[0;34m\u001b[0m\u001b[0m\n",
            "\u001b[0;32m/usr/local/lib/python3.6/dist-packages/tensorflow/python/eager/function.py\u001b[0m in \u001b[0;36m_call_flat\u001b[0;34m(self, args)\u001b[0m\n\u001b[1;32m    625\u001b[0m     \u001b[0;31m# Only need to override the gradient in graph mode and when we have outputs.\u001b[0m\u001b[0;34m\u001b[0m\u001b[0;34m\u001b[0m\u001b[0;34m\u001b[0m\u001b[0m\n\u001b[1;32m    626\u001b[0m     \u001b[0;32mif\u001b[0m \u001b[0mcontext\u001b[0m\u001b[0;34m.\u001b[0m\u001b[0mexecuting_eagerly\u001b[0m\u001b[0;34m(\u001b[0m\u001b[0;34m)\u001b[0m \u001b[0;32mor\u001b[0m \u001b[0;32mnot\u001b[0m \u001b[0mself\u001b[0m\u001b[0;34m.\u001b[0m\u001b[0moutputs\u001b[0m\u001b[0;34m:\u001b[0m\u001b[0;34m\u001b[0m\u001b[0;34m\u001b[0m\u001b[0m\n\u001b[0;32m--> 627\u001b[0;31m       \u001b[0moutputs\u001b[0m \u001b[0;34m=\u001b[0m \u001b[0mself\u001b[0m\u001b[0;34m.\u001b[0m\u001b[0m_inference_function\u001b[0m\u001b[0;34m.\u001b[0m\u001b[0mcall\u001b[0m\u001b[0;34m(\u001b[0m\u001b[0mctx\u001b[0m\u001b[0;34m,\u001b[0m \u001b[0margs\u001b[0m\u001b[0;34m)\u001b[0m\u001b[0;34m\u001b[0m\u001b[0;34m\u001b[0m\u001b[0m\n\u001b[0m\u001b[1;32m    628\u001b[0m     \u001b[0;32melse\u001b[0m\u001b[0;34m:\u001b[0m\u001b[0;34m\u001b[0m\u001b[0;34m\u001b[0m\u001b[0m\n\u001b[1;32m    629\u001b[0m       \u001b[0mself\u001b[0m\u001b[0;34m.\u001b[0m\u001b[0m_register_gradient\u001b[0m\u001b[0;34m(\u001b[0m\u001b[0;34m)\u001b[0m\u001b[0;34m\u001b[0m\u001b[0;34m\u001b[0m\u001b[0m\n",
            "\u001b[0;32m/usr/local/lib/python3.6/dist-packages/tensorflow/python/eager/function.py\u001b[0m in \u001b[0;36mcall\u001b[0;34m(self, ctx, args)\u001b[0m\n\u001b[1;32m    413\u001b[0m             attrs=(\"executor_type\", executor_type,\n\u001b[1;32m    414\u001b[0m                    \"config_proto\", config),\n\u001b[0;32m--> 415\u001b[0;31m             ctx=ctx)\n\u001b[0m\u001b[1;32m    416\u001b[0m       \u001b[0;31m# Replace empty list with None\u001b[0m\u001b[0;34m\u001b[0m\u001b[0;34m\u001b[0m\u001b[0;34m\u001b[0m\u001b[0m\n\u001b[1;32m    417\u001b[0m       \u001b[0moutputs\u001b[0m \u001b[0;34m=\u001b[0m \u001b[0moutputs\u001b[0m \u001b[0;32mor\u001b[0m \u001b[0;32mNone\u001b[0m\u001b[0;34m\u001b[0m\u001b[0;34m\u001b[0m\u001b[0m\n",
            "\u001b[0;32m/usr/local/lib/python3.6/dist-packages/tensorflow/python/eager/execute.py\u001b[0m in \u001b[0;36mquick_execute\u001b[0;34m(op_name, num_outputs, inputs, attrs, ctx, name)\u001b[0m\n\u001b[1;32m     58\u001b[0m     tensors = pywrap_tensorflow.TFE_Py_Execute(ctx._handle, device_name,\n\u001b[1;32m     59\u001b[0m                                                \u001b[0mop_name\u001b[0m\u001b[0;34m,\u001b[0m \u001b[0minputs\u001b[0m\u001b[0;34m,\u001b[0m \u001b[0mattrs\u001b[0m\u001b[0;34m,\u001b[0m\u001b[0;34m\u001b[0m\u001b[0;34m\u001b[0m\u001b[0m\n\u001b[0;32m---> 60\u001b[0;31m                                                num_outputs)\n\u001b[0m\u001b[1;32m     61\u001b[0m   \u001b[0;32mexcept\u001b[0m \u001b[0mcore\u001b[0m\u001b[0;34m.\u001b[0m\u001b[0m_NotOkStatusException\u001b[0m \u001b[0;32mas\u001b[0m \u001b[0me\u001b[0m\u001b[0;34m:\u001b[0m\u001b[0;34m\u001b[0m\u001b[0;34m\u001b[0m\u001b[0m\n\u001b[1;32m     62\u001b[0m     \u001b[0;32mif\u001b[0m \u001b[0mname\u001b[0m \u001b[0;32mis\u001b[0m \u001b[0;32mnot\u001b[0m \u001b[0;32mNone\u001b[0m\u001b[0;34m:\u001b[0m\u001b[0;34m\u001b[0m\u001b[0;34m\u001b[0m\u001b[0m\n",
            "\u001b[0;31mKeyboardInterrupt\u001b[0m: "
          ]
        }
      ]
    },
    {
      "cell_type": "code",
      "metadata": {
        "id": "MC0RhrVHJtnV",
        "colab_type": "code",
        "colab": {}
      },
      "source": [
        "plot_history(model.history)"
      ],
      "execution_count": 0,
      "outputs": []
    },
    {
      "cell_type": "code",
      "metadata": {
        "id": "PQfnbljVMY1C",
        "colab_type": "code",
        "colab": {}
      },
      "source": [
        "keras.backend.clear_session()\n",
        "inputs = Input(input_shape)\n",
        "x = generate_inception_module(inputs)\n",
        "x = generate_inception_module(x)\n",
        "x = generate_inception_module(x)\n",
        "# x = Conv2D(32, (3,3), padding='same', activation='rrelu')(x)\n",
        "# x = Conv2D(32, (3,3), padding='same', activation='rrelu')(x)\n",
        "# x = MaxPooling2D(2, 2)(x)\n",
        "# x = Conv2D(64, (3,3), padding='same', activation='rrelu')(x)\n",
        "# x = Conv2D(64, (3,3), padding='same', activation='rrelu')(x)\n",
        "# x = MaxPooling2D(2, 2)(x)\n",
        "x = AveragePooling2D(2, 2)(x)\n",
        "x = Flatten()(x)\n",
        "x = Dense(1024, activation='rrelu')(x)\n",
        "output = Dense(len(classes), activation='softmax')(x)"
      ],
      "execution_count": 0,
      "outputs": []
    },
    {
      "cell_type": "code",
      "metadata": {
        "id": "5fzlRJWGNBke",
        "colab_type": "code",
        "colab": {}
      },
      "source": [
        "model = Model(inputs, output)"
      ],
      "execution_count": 0,
      "outputs": []
    },
    {
      "cell_type": "code",
      "metadata": {
        "id": "eJPPTLdjNF7Y",
        "colab_type": "code",
        "colab": {}
      },
      "source": [
        "model.compile(optimizer=keras.optimizers.Adam(), \n",
        "              loss=keras.losses.sparse_categorical_crossentropy, \n",
        "              metrics=[keras.metrics.sparse_categorical_accuracy])"
      ],
      "execution_count": 0,
      "outputs": []
    },
    {
      "cell_type": "code",
      "metadata": {
        "id": "hGAb2TrJNKQY",
        "colab_type": "code",
        "colab": {}
      },
      "source": [
        "model.fit(X_train_gen, epochs=40, validation_data=(X_test, y_test))"
      ],
      "execution_count": 0,
      "outputs": []
    },
    {
      "cell_type": "code",
      "metadata": {
        "id": "J9dHXC3jNOnF",
        "colab_type": "code",
        "colab": {}
      },
      "source": [
        ""
      ],
      "execution_count": 0,
      "outputs": []
    }
  ]
}